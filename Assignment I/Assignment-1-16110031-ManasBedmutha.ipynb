{
 "cells": [
  {
   "cell_type": "markdown",
   "metadata": {},
   "source": [
    "## CS 613 Natural Language Proceessing - Assignment 1\n",
    "\n",
    "Understanding TTR and Power Laws from the Tweets Dataset\n",
    "\n",
    "### Import libraries and data"
   ]
  },
  {
   "cell_type": "code",
   "execution_count": 1,
   "metadata": {
    "collapsed": true
   },
   "outputs": [],
   "source": [
    "import numpy as np                                       # For array level operations\n",
    "from nltk.tokenize import TweetTokenizer                 # For tokenizing the tweets\n",
    "import csv                                               # For reading dataset\n",
    "from matplotlib import pyplot as plt                     # For generating plots\n",
    "%matplotlib inline"
   ]
  },
  {
   "cell_type": "code",
   "execution_count": 2,
   "metadata": {
    "collapsed": true
   },
   "outputs": [],
   "source": [
    "with open('./tweets-dataset.csv','r')as file:\n",
    "    datum = csv.reader(file)\n",
    "    data = \"\"                                             # Read file translated into string\n",
    "    for row in datum:\n",
    "        if row == ['Sentence']:                           # Column heading needs to be ignored\n",
    "            continue\n",
    "        data = data + \"\\n\" + row[0]\n",
    "    data = data[2:]                                       # Removing the \"\\n\" added in beginning"
   ]
  },
  {
   "cell_type": "markdown",
   "metadata": {},
   "source": [
    "### 1. Finding TTR for given corpus\n",
    "\n",
    "Tokens are all individually existing words. Types represents collection of unique words only. <br>\n",
    "TTR = no. of types / no. of tokens"
   ]
  },
  {
   "cell_type": "code",
   "execution_count": 3,
   "metadata": {},
   "outputs": [
    {
     "name": "stdout",
     "output_type": "stream",
     "text": [
      "Number of tokens:  367775\n"
     ]
    }
   ],
   "source": [
    "tknzr = TweetTokenizer()                                  # Currently using NLTK's twwet tokenizer\n",
    "                                                          # Others such as nltk.tokenize() can also be used\n",
    "tokens = tknzr.tokenize(data)                         \n",
    "print(\"Number of tokens: \",len(tokens))"
   ]
  },
  {
   "cell_type": "code",
   "execution_count": 4,
   "metadata": {},
   "outputs": [
    {
     "name": "stdout",
     "output_type": "stream",
     "text": [
      "Number of types:  49127\n"
     ]
    }
   ],
   "source": [
    "types = sorted(set(tokens))                               # Sort all tokens to get number of unique words\n",
    "print(\"Number of types: \",len(types))"
   ]
  },
  {
   "cell_type": "code",
   "execution_count": 5,
   "metadata": {},
   "outputs": [
    {
     "name": "stdout",
     "output_type": "stream",
     "text": [
      "The Type-Token Ratio of our dataset is: 0.1335789545238257\n"
     ]
    }
   ],
   "source": [
    "TTR = len(types)/len(tokens)\n",
    "print(\"The Type-Token Ratio of our dataset is:\",TTR)"
   ]
  },
  {
   "cell_type": "markdown",
   "metadata": {},
   "source": [
    "### 2. Verification of Zipf's Law\n",
    "\n",
    "We find the frequencies of tokens (f) and then sort them in reverse order to get rank (r).<br>\n",
    "We wish to verify that f is inversely proportional to r. <br>\n",
    "This is equivalent to showing \\begin{equation}log(f) + log(r) = log(k)\\end{equation}"
   ]
  },
  {
   "cell_type": "code",
   "execution_count": 6,
   "metadata": {
    "collapsed": true
   },
   "outputs": [],
   "source": [
    "from nltk import FreqDist            # For frequenct distribution"
   ]
  },
  {
   "cell_type": "code",
   "execution_count": 7,
   "metadata": {
    "collapsed": true
   },
   "outputs": [],
   "source": [
    "p = FreqDist(tokens)                 # Finding frequency distribution of the tokens found above\n",
    "freq = list(p.values())\n",
    "\n",
    "freq.sort(reverse=True)              # Sort freq reverse to get ranked values\n",
    "\n",
    "f = np.array(freq)\n",
    "r = np.arange(1, len(f)+1)"
   ]
  },
  {
   "cell_type": "code",
   "execution_count": 8,
   "metadata": {},
   "outputs": [
    {
     "name": "stdout",
     "output_type": "stream",
     "text": [
      "[ 9717 19394 21234 18900 21010 24048 25053 24704 27531 30250 31570 34416\n",
      " 36712 38976 37995 36416 37349 38844 40508 37060 37044 38104 37536 37776\n",
      " 39050]\n"
     ]
    }
   ],
   "source": [
    "k = f*r                              # Multiply frequency and rank to get k for each word \n",
    "print(k[:25])"
   ]
  },
  {
   "cell_type": "code",
   "execution_count": 9,
   "metadata": {},
   "outputs": [
    {
     "data": {
      "image/png": "[encoded data removed]",
      "text/plain": [
       "<matplotlib.figure.Figure at 0x7f7e6c4a0f28>"
      ]
     },
     "metadata": {},
     "output_type": "display_data"
    }
   ],
   "source": [
    "plt.plot(np.log(r),np.log(f))\n",
    "plt.xlabel('Logarithm of Ranking')\n",
    "plt.ylabel('Logarithm of Frequency')\n",
    "plt.title(\"Verification of Zipf's Law\")\n",
    "plt.savefig('Zipf.jpg')\n",
    "plt.show()"
   ]
  },
  {
   "cell_type": "code",
   "execution_count": 10,
   "metadata": {},
   "outputs": [
    {
     "name": "stdout",
     "output_type": "stream",
     "text": [
      "For the first 25 values,\n",
      "The average value of k is: 31247.88\n",
      "It varies with standard deviation: 8293.47777628\n",
      "Therefore Zipf's Law is valid\n"
     ]
    }
   ],
   "source": [
    "print(\"For the first 25 values,\")\n",
    "print(\"The average value of k is:\",np.mean(k[:25]))\n",
    "print(\"It varies with standard deviation:\", np.std(k[:25]))\n",
    "print(\"Therefore Zipf's Law is valid\")"
   ]
  },
  {
   "cell_type": "markdown",
   "metadata": {},
   "source": [
    "### 3. Plotting Heap's Law\n",
    "\n",
    "We want the V = kN<sup>b</sup>. This translates to log(V) = k log(N) + b. <br>\n",
    "This means that log(V) and log(N) have linear nature and their slope gives k, intercept gives us b"
   ]
  },
  {
   "cell_type": "code",
   "execution_count": 11,
   "metadata": {
    "collapsed": true
   },
   "outputs": [],
   "source": [
    "unique = []\n",
    "\n",
    "words = []\n",
    "vocab = []\n",
    "\n",
    "curr_word = 0\n",
    "curr_uniq = 0"
   ]
  },
  {
   "cell_type": "code",
   "execution_count": 12,
   "metadata": {
    "collapsed": true
   },
   "outputs": [],
   "source": [
    "for token in tokens:\n",
    "    curr_word = curr_word + 1\n",
    "    if token not in unique:\n",
    "        unique.append(token)\n",
    "        curr_uniq = curr_uniq + 1\n",
    "        \n",
    "    vocab.append(curr_uniq)\n",
    "    words.append(curr_word)"
   ]
  },
  {
   "cell_type": "code",
   "execution_count": 13,
   "metadata": {
    "collapsed": true
   },
   "outputs": [],
   "source": [
    "V = np.array(vocab)\n",
    "N = np.array(words)"
   ]
  },
  {
   "cell_type": "code",
   "execution_count": 14,
   "metadata": {},
   "outputs": [
    {
     "data": {
      "image/png": "[encoded data removed]",
      "text/plain": [
       "<matplotlib.figure.Figure at 0x7f7e6d9dd9e8>"
      ]
     },
     "metadata": {},
     "output_type": "display_data"
    }
   ],
   "source": [
    "plt.plot(N, V)\n",
    "plt.xlabel('Number of terms (N)')\n",
    "plt.ylabel('Vocabulary size (V)')\n",
    "plt.title(\"Study of Heap's Law\")\n",
    "plt.savefig('Heap-1.jpg')\n",
    "plt.show()"
   ]
  },
  {
   "cell_type": "code",
   "execution_count": 15,
   "metadata": {},
   "outputs": [
    {
     "data": {
      "image/png": "[encoded data removed]",
      "text/plain": [
       "<matplotlib.figure.Figure at 0x7f7e6db2ecc0>"
      ]
     },
     "metadata": {},
     "output_type": "display_data"
    }
   ],
   "source": [
    "plt.plot(np.log(N),np.log(V))\n",
    "plt.xlabel('Logarithm of number of terms (log(N))')\n",
    "plt.ylabel('Logarithm of vocabulary size (log(V))')\n",
    "plt.title(\"Study of Heap's Law\")\n",
    "plt.savefig('Heap-2.jpg')\n",
    "plt.show()"
   ]
  },
  {
   "cell_type": "code",
   "execution_count": 16,
   "metadata": {
    "collapsed": true
   },
   "outputs": [],
   "source": [
    "# Using Least Squares Method, the above line has slope and intercept as follows\n",
    "\n",
    "n = np.log(N)\n",
    "v = np.log(V)\n",
    "\n",
    "k = (((np.mean(n)*np.mean(v)) - np.mean(n*v)) / ((np.mean(n)*np.mean(n)) - np.mean(n*n)))\n",
    "    \n",
    "b = np.mean(v) - k*np.mean(n)"
   ]
  },
  {
   "cell_type": "code",
   "execution_count": 17,
   "metadata": {},
   "outputs": [
    {
     "name": "stdout",
     "output_type": "stream",
     "text": [
      "Value of slope(k) is: 0.704020345366\n",
      "Value of exponent(b) is: 1.81432066992\n"
     ]
    }
   ],
   "source": [
    "print(\"Value of slope(k) is:\",k)\n",
    "print(\"Value of exponent(b) is:\",b)"
   ]
  }
 ],
 "metadata": {
  "kernelspec": {
   "display_name": "Python 3",
   "language": "python",
   "name": "python3"
  },
  "language_info": {
   "codemirror_mode": {
    "name": "ipython",
    "version": 3
   },
   "file_extension": ".py",
   "mimetype": "text/x-python",
   "name": "python",
   "nbconvert_exporter": "python",
   "pygments_lexer": "ipython3",
   "version": "3.6.1"
  }
 },
 "nbformat": 4,
 "nbformat_minor": 2
}
